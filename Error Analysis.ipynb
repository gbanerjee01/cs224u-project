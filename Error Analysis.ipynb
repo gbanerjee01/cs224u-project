{
 "cells": [
  {
   "cell_type": "code",
   "execution_count": 1,
   "id": "enabling-testing",
   "metadata": {},
   "outputs": [],
   "source": [
    "import json\n",
    "import os\n",
    "import fastwer"
   ]
  },
  {
   "cell_type": "code",
   "execution_count": 2,
   "id": "worse-canvas",
   "metadata": {},
   "outputs": [],
   "source": [
    "with open('gold_transcripts.json') as json_file:\n",
    "    gold = json.load(json_file)"
   ]
  },
  {
   "cell_type": "code",
   "execution_count": 3,
   "id": "structured-geneva",
   "metadata": {},
   "outputs": [],
   "source": [
    "with open('./CTC_baseline_splits/test.json') as json_file:\n",
    "    ctc_test = json.load(json_file)\n",
    "    \n",
    "with open('./CTC_LM_rescore_splits/test.json') as json_file:\n",
    "    ctc_lm_test = json.load(json_file)"
   ]
  },
  {
   "cell_type": "code",
   "execution_count": 4,
   "id": "offshore-lexington",
   "metadata": {},
   "outputs": [],
   "source": [
    "cerlist = []\n",
    "werlist = []"
   ]
  },
  {
   "cell_type": "code",
   "execution_count": 5,
   "id": "global-tunnel",
   "metadata": {},
   "outputs": [],
   "source": [
    "for key, pred in ctc_test.items():\n",
    "    y = gold[key]\n",
    "    cerlist.append(fastwer.score_sent(pred, y, char_level=True))\n",
    "    werlist.append(fastwer.score_sent(pred, y))"
   ]
  },
  {
   "cell_type": "code",
   "execution_count": 7,
   "id": "correct-means",
   "metadata": {},
   "outputs": [],
   "source": [
    "cerlistl = []\n",
    "werlistl = []\n",
    "for key, pred in ctc_lm_test.items():\n",
    "    y = gold[key]\n",
    "    cerlistl.append(fastwer.score_sent(pred, y, char_level=True))\n",
    "    werlistl.append(fastwer.score_sent(pred, y))"
   ]
  },
  {
   "cell_type": "code",
   "execution_count": 10,
   "id": "mobile-plane",
   "metadata": {},
   "outputs": [
    {
     "name": "stdout",
     "output_type": "stream",
     "text": [
      "68.54627965000002\n",
      "59.933487549999995\n",
      "26.7606619\n",
      "29.6005387\n"
     ]
    }
   ],
   "source": [
    "import numpy as np\n",
    "print(np.average(werlist))\n",
    "print(np.average(werlistl))\n",
    "\n",
    "print(np.average(cerlist))\n",
    "print(np.average(cerlistl))"
   ]
  },
  {
   "cell_type": "code",
   "execution_count": 20,
   "id": "loaded-victim",
   "metadata": {},
   "outputs": [
    {
     "name": "stdout",
     "output_type": "stream",
     "text": [
      "69.2308\n",
      "58.3333\n",
      "25.0\n",
      "26.5006\n"
     ]
    }
   ],
   "source": [
    "print(np.median(werlist))\n",
    "print(np.median(werlistl))\n",
    "\n",
    "print(np.median(cerlist))\n",
    "print(np.median(cerlistl))"
   ]
  },
  {
   "cell_type": "code",
   "execution_count": null,
   "id": "resistant-cursor",
   "metadata": {},
   "outputs": [],
   "source": []
  },
  {
   "cell_type": "code",
   "execution_count": 26,
   "id": "representative-macro",
   "metadata": {},
   "outputs": [
    {
     "data": {
      "text/plain": [
       "2000"
      ]
     },
     "execution_count": 26,
     "metadata": {},
     "output_type": "execute_result"
    }
   ],
   "source": [
    "len(cerlist)"
   ]
  },
  {
   "cell_type": "code",
   "execution_count": 12,
   "id": "furnished-tribute",
   "metadata": {},
   "outputs": [],
   "source": [
    "import matplotlib.pyplot as plt"
   ]
  },
  {
   "cell_type": "code",
   "execution_count": 18,
   "id": "increased-bhutan",
   "metadata": {},
   "outputs": [
    {
     "data": {
      "image/png": "[encoded data removed]",
      "text/plain": [
       "<Figure size 432x288 with 1 Axes>"
      ]
     },
     "metadata": {
      "needs_background": "light"
     },
     "output_type": "display_data"
    }
   ],
   "source": [
    "# bins = numpy.linspace(-10, 10, 100)\n",
    "\n",
    "plt.hist(werlist, bins=50, alpha=0.5, label='CTC')\n",
    "plt.hist(werlistl, bins=50, alpha=0.5, label='CTC + LM rescore')\n",
    "plt.legend(loc='upper right')\n",
    "plt.show()"
   ]
  },
  {
   "cell_type": "code",
   "execution_count": 19,
   "id": "reported-sunglasses",
   "metadata": {},
   "outputs": [
    {
     "data": {
      "image/png": "[encoded data removed]",
      "text/plain": [
       "<Figure size 432x288 with 1 Axes>"
      ]
     },
     "metadata": {
      "needs_background": "light"
     },
     "output_type": "display_data"
    }
   ],
   "source": [
    "# bins = numpy.linspace(-10, 10, 100)\n",
    "\n",
    "plt.hist(cerlist, bins=50, alpha=0.5, label='CTC')\n",
    "plt.hist(cerlistl, bins=50, alpha=0.5, label='CTC + LM rescore')\n",
    "plt.legend(loc='upper right')\n",
    "plt.show()"
   ]
  },
  {
   "cell_type": "code",
   "execution_count": null,
   "id": "absolute-anderson",
   "metadata": {},
   "outputs": [],
   "source": []
  },
  {
   "cell_type": "code",
   "execution_count": null,
   "id": "common-negotiation",
   "metadata": {},
   "outputs": [],
   "source": []
  },
  {
   "cell_type": "code",
   "execution_count": 21,
   "id": "harmful-family",
   "metadata": {},
   "outputs": [],
   "source": [
    "import error\n",
    "import fastwer\n",
    "from time import perf_counter"
   ]
  },
  {
   "cell_type": "code",
   "execution_count": 23,
   "id": "different-stupid",
   "metadata": {},
   "outputs": [
    {
     "name": "stdout",
     "output_type": "stream",
     "text": [
      "hanno rot of his expedition in stel\n",
      "Hannu wrote of his expedition in stone.\n",
      "0.000484247000713367\n",
      "2.6545996661297977e-05\n",
      "42.8571\n",
      "4.2263003706466407e-05\n",
      "1.4076002116780728e-05\n"
     ]
    }
   ],
   "source": [
    "for key, val in ctc_test.items():\n",
    "    print(val)\n",
    "    print(gold[key])\n",
    "    \n",
    "    start = perf_counter()\n",
    "    error.cer(val, gold[key])\n",
    "    print(perf_counter()-start)\n",
    "    \n",
    "    start = perf_counter()\n",
    "    error.wer(val, gold[key])\n",
    "    print(perf_counter()-start)\n",
    "    \n",
    "    start = perf_counter()\n",
    "    print(fastwer.score_sent(val, gold[key]))\n",
    "    print(perf_counter()-start)\n",
    "    \n",
    "    start = perf_counter()\n",
    "    fastwer.score_sent(val, gold[key], char_level=True)\n",
    "    print(perf_counter()-start)\n",
    "    break"
   ]
  },
  {
   "cell_type": "code",
   "execution_count": 13,
   "id": "opposed-modern",
   "metadata": {},
   "outputs": [
    {
     "name": "stdout",
     "output_type": "stream",
     "text": [
      "Collecting fastwer\n",
      "  Using cached fastwer-0.1.3.tar.gz (4.6 kB)\n",
      "Requirement already satisfied: pybind11 in /home/ec2-user/anaconda3/envs/pytorch_p36/lib/python3.6/site-packages (from fastwer) (2.6.2)\n",
      "Building wheels for collected packages: fastwer\n",
      "  Building wheel for fastwer (setup.py) ... \u001b[?25ldone\n",
      "\u001b[?25h  Created wheel for fastwer: filename=fastwer-0.1.3-cp36-cp36m-linux_x86_64.whl size=58907 sha256=b5e11e67426a528e6717443bfb4ac534722fec7de7bd87c9c691edbff11ff030\n",
      "  Stored in directory: /home/ec2-user/.cache/pip/wheels/5b/3a/d4/c2c578166948e5523cbb896b3b71dcee6a64b22099a3c7accb\n",
      "Successfully built fastwer\n",
      "Installing collected packages: fastwer\n",
      "Successfully installed fastwer-0.1.3\n"
     ]
    }
   ],
   "source": [
    "!pip3 install fastwer"
   ]
  },
  {
   "cell_type": "code",
   "execution_count": null,
   "id": "greenhouse-limitation",
   "metadata": {},
   "outputs": [],
   "source": []
  }
 ],
 "metadata": {
  "kernelspec": {
   "display_name": "Python 3",
   "language": "python",
   "name": "python3"
  },
  "language_info": {
   "codemirror_mode": {
    "name": "ipython",
    "version": 3
   },
   "file_extension": ".py",
   "mimetype": "text/x-python",
   "name": "python",
   "nbconvert_exporter": "python",
   "pygments_lexer": "ipython3",
   "version": "3.7.10"
  }
 },
 "nbformat": 4,
 "nbformat_minor": 5
}
