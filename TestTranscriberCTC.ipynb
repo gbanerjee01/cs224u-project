{
 "cells": [
  {
   "cell_type": "code",
   "execution_count": 20,
   "id": "indirect-embassy",
   "metadata": {},
   "outputs": [],
   "source": [
    "import deepspeech\n",
    "from audio2numpy import open_audio\n",
    "import librosa\n",
    "import numpy as np\n",
    "from tqdm import tqdm\n",
    "import pandas as pd\n",
    "import json\n",
    "\n",
    "def process_audio(filename, new_rate=16000):\n",
    "    signal, sampling_rate = open_audio(filename)\n",
    "    down_sample = librosa.resample(y=signal, orig_sr=sampling_rate, target_sr=new_rate)\n",
    "    down_sample = np.int16(down_sample*32767.0)\n",
    "    return down_sample"
   ]
  },
  {
   "cell_type": "code",
   "execution_count": 21,
   "id": "marine-psychiatry",
   "metadata": {},
   "outputs": [],
   "source": [
    "model = deepspeech.Model('deepspeech-0.9.3-models.pbmm')\n",
    "new_rate = model.sampleRate()"
   ]
  },
  {
   "cell_type": "code",
   "execution_count": 22,
   "id": "regulated-merchandise",
   "metadata": {},
   "outputs": [],
   "source": [
    "df = pd.read_csv('../cv-corpus-6.1-2020-12-11/en/test.tsv', sep='\\t')\n",
    "filelist = df['path'].tolist()\n",
    "\n",
    "pred_dict = dict()"
   ]
  },
  {
   "cell_type": "code",
   "execution_count": null,
   "id": "crucial-parks",
   "metadata": {},
   "outputs": [
    {
     "name": "stderr",
     "output_type": "stream",
     "text": [
      "  0%|          | 37/16164 [01:10<8:38:35,  1.93s/it] "
     ]
    }
   ],
   "source": [
    "for i in tqdm(range(16001, len(filelist))):\n",
    "    filename = filelist[i]\n",
    "    path = '../cv-corpus-6.1-2020-12-11/en/clips/' + filename\n",
    "\n",
    "    audio_signal = process_audio(path, new_rate)\n",
    "    pred_dict[filename] = model.stt(audio_signal)\n",
    "    \n",
    "#     if i%1000==0:\n",
    "#         jname = str(i) + \".json\"\n",
    "#         with open(jname, \"w\") as outfile: \n",
    "#             json.dump(pred_dict, outfile)"
   ]
  },
  {
   "cell_type": "code",
   "execution_count": null,
   "id": "renewable-pound",
   "metadata": {},
   "outputs": [],
   "source": [
    "jname = \"last164.json\"\n",
    "with open(jname, \"w\") as outfile: \n",
    "    json.dump(pred_dict, outfile)"
   ]
  }
 ],
 "metadata": {
  "kernelspec": {
   "display_name": "Python 3",
   "language": "python",
   "name": "python3"
  },
  "language_info": {
   "codemirror_mode": {
    "name": "ipython",
    "version": 3
   },
   "file_extension": ".py",
   "mimetype": "text/x-python",
   "name": "python",
   "nbconvert_exporter": "python",
   "pygments_lexer": "ipython3",
   "version": "3.6.13"
  }
 },
 "nbformat": 4,
 "nbformat_minor": 5
}
