{
 "cells": [
  {
   "cell_type": "markdown",
   "id": "d6c60f6b",
   "metadata": {},
   "source": [
    "## Instructions\n",
    "\n",
    "Install deepspeech by\n",
    "\n",
    "```\n",
    "pip install deepspeech\n",
    "```\n",
    "\n",
    "The files used in this demo can be obtained as follow.\n",
    "\n",
    "1. Following https://deepspeech.readthedocs.io/en/r0.9/\n",
    "    - Download pre-trained English model and external scorer files\n",
    "    ```\n",
    "    curl -LO https://github.com/mozilla/DeepSpeech/releases/download/v0.9.3/deepspeech-0.9.3-models.pbmm\n",
    "    curl -LO https://github.com/mozilla/DeepSpeech/releases/download/v0.9.3/deepspeech-0.9.3-models.scorer\n",
    "    ```\n",
    "    - Download example audio files\n",
    "    ```\n",
    "    curl -LO https://github.com/mozilla/DeepSpeech/releases/download/v0.9.3/audio-0.9.3.tar.gz\n",
    "    tar xvf audio-0.9.3.tar.gz\n",
    "    ```\n",
    "2. Download client.py which contains useful utility functions (resampling, etc.) at https://deepspeech.readthedocs.io/en/r0.9/_downloads/67bac4343abf2261d69231fdaead59fb/client.py"
   ]
  },
  {
   "cell_type": "code",
   "execution_count": 1,
   "id": "a0c20bae",
   "metadata": {},
   "outputs": [],
   "source": [
    "import numpy as np\n",
    "import wave\n",
    "import deepspeech\n",
    "import client"
   ]
  },
  {
   "cell_type": "code",
   "execution_count": 2,
   "id": "8873c2c7",
   "metadata": {},
   "outputs": [],
   "source": [
    "# Parameters\n",
    "# Files obtained as instructed in https://deepspeech.readthedocs.io/en/r0.9/?badge=latest\n",
    "DATADIR = '2830-3980-0043.wav'\n",
    "MODELDIR = 'deepspeech-0.9.3-models.pbmm'\n",
    "SCORERDIR = 'deepspeech-0.9.3-models.scorer'\n",
    "USE_SCORER = True"
   ]
  },
  {
   "cell_type": "code",
   "execution_count": 3,
   "id": "eaaba8a9",
   "metadata": {},
   "outputs": [
    {
     "name": "stdout",
     "output_type": "stream",
     "text": [
      "Beam width 500\n",
      "Sampling rate expected by the model 16000\n"
     ]
    }
   ],
   "source": [
    "# Load model\n",
    "model = deepspeech.Model(MODELDIR)\n",
    "if USE_SCORER:\n",
    "    model.enableExternalScorer(SCORERDIR)\n",
    "modelSamplingRate = model.sampleRate()\n",
    "    \n",
    "# Print some model parameters\n",
    "print('Beam width', model.beamWidth())\n",
    "print('Sampling rate expected by the model', modelSamplingRate)"
   ]
  },
  {
   "cell_type": "code",
   "execution_count": 4,
   "id": "c476f07c",
   "metadata": {},
   "outputs": [],
   "source": [
    "# Load audio\n",
    "# Note that deepspeech accepts audio of data type int16\n",
    "fin = wave.open(DATADIR, 'rb')\n",
    "fs_orig = fin.getframerate()\n",
    "if fs_orig != modelSamplingRate:\n",
    "    print('Warning: original sample rate ({}) is different than {}hz. \\\n",
    "          Resampling might produce erratic speech recognition.' \\\n",
    "          .format(fs_orig, modelSamplingRate))\n",
    "    fs_new, audio = client.convert_samplerate(DATADIR, modelSamplingRate)\n",
    "else:\n",
    "    audio = np.frombuffer(fin.readframes(fin.getnframes()), np.int16)\n",
    "\n",
    "audio_length = fin.getnframes() * (1/fs_orig)\n",
    "fin.close()"
   ]
  },
  {
   "cell_type": "code",
   "execution_count": 5,
   "id": "49a31252",
   "metadata": {},
   "outputs": [
    {
     "name": "stdout",
     "output_type": "stream",
     "text": [
      "experience proves this\n",
      "experience proves his\n",
      "experience proves this \n",
      "experience proves is\n",
      "experience proves that\n"
     ]
    }
   ],
   "source": [
    "# Prediction\n",
    "# sttWithMetadata returns a Metadata object, containing a list of CandidateTranscript objects\n",
    "predictions = model.sttWithMetadata(audio, num_results=5)\n",
    "for candidate in predictions.transcripts:\n",
    "    print(client.metadata_to_string(candidate))"
   ]
  },
  {
   "cell_type": "code",
   "execution_count": 6,
   "id": "2e6657b0",
   "metadata": {},
   "outputs": [
    {
     "data": {
      "text/plain": [
       "Metadata(transcripts=[\n",
       "  CandidateTranscript(confidence=-16.056909561157227, tokens=[\n",
       "    TokenMetadata(text='e', timestep=34, start_time=0.6800000071525574),\n",
       "    TokenMetadata(text='x', timestep=36, start_time=0.7199999690055847),\n",
       "    TokenMetadata(text='p', timestep=40, start_time=0.7999999523162842),\n",
       "    TokenMetadata(text='e', timestep=41, start_time=0.8199999928474426),\n",
       "    TokenMetadata(text='r', timestep=43, start_time=0.85999995470047),\n",
       "    TokenMetadata(text='i', timestep=45, start_time=0.8999999761581421),\n",
       "    TokenMetadata(text='e', timestep=47, start_time=0.9399999976158142),\n",
       "    TokenMetadata(text='n', timestep=49, start_time=0.9799999594688416),\n",
       "    TokenMetadata(text='c', timestep=50, start_time=1.0),\n",
       "    TokenMetadata(text='e', timestep=52, start_time=1.0399999618530273),\n",
       "    TokenMetadata(text=' ', timestep=56, start_time=1.1200000047683716),\n",
       "    TokenMetadata(text='p', timestep=61, start_time=1.2200000286102295),\n",
       "    TokenMetadata(text='r', timestep=62, start_time=1.2400000095367432),\n",
       "    TokenMetadata(text='o', timestep=64, start_time=1.2799999713897705),\n",
       "    TokenMetadata(text='v', timestep=66, start_time=1.3199999332427979),\n",
       "    TokenMetadata(text='e', timestep=67, start_time=1.3399999141693115),\n",
       "    TokenMetadata(text='s', timestep=69, start_time=1.3799999952316284),\n",
       "    TokenMetadata(text=' ', timestep=72, start_time=1.4399999380111694),\n",
       "    TokenMetadata(text='t', timestep=75, start_time=1.5),\n",
       "    TokenMetadata(text='h', timestep=76, start_time=1.5199999809265137),\n",
       "    TokenMetadata(text='i', timestep=78, start_time=1.559999942779541),\n",
       "    TokenMetadata(text='s', timestep=82, start_time=1.6399999856948853)\n",
       "  ]),\n",
       "  CandidateTranscript(confidence=-20.5462646484375, tokens=[\n",
       "    TokenMetadata(text='e', timestep=34, start_time=0.6800000071525574),\n",
       "    TokenMetadata(text='x', timestep=36, start_time=0.7199999690055847),\n",
       "    TokenMetadata(text='p', timestep=40, start_time=0.7999999523162842),\n",
       "    TokenMetadata(text='e', timestep=41, start_time=0.8199999928474426),\n",
       "    TokenMetadata(text='r', timestep=43, start_time=0.85999995470047),\n",
       "    TokenMetadata(text='i', timestep=45, start_time=0.8999999761581421),\n",
       "    TokenMetadata(text='e', timestep=47, start_time=0.9399999976158142),\n",
       "    TokenMetadata(text='n', timestep=49, start_time=0.9799999594688416),\n",
       "    TokenMetadata(text='c', timestep=50, start_time=1.0),\n",
       "    TokenMetadata(text='e', timestep=52, start_time=1.0399999618530273),\n",
       "    TokenMetadata(text=' ', timestep=56, start_time=1.1200000047683716),\n",
       "    TokenMetadata(text='p', timestep=61, start_time=1.2200000286102295),\n",
       "    TokenMetadata(text='r', timestep=62, start_time=1.2400000095367432),\n",
       "    TokenMetadata(text='o', timestep=64, start_time=1.2799999713897705),\n",
       "    TokenMetadata(text='v', timestep=66, start_time=1.3199999332427979),\n",
       "    TokenMetadata(text='e', timestep=67, start_time=1.3399999141693115),\n",
       "    TokenMetadata(text='s', timestep=69, start_time=1.3799999952316284),\n",
       "    TokenMetadata(text=' ', timestep=72, start_time=1.4399999380111694),\n",
       "    TokenMetadata(text='h', timestep=76, start_time=1.5199999809265137),\n",
       "    TokenMetadata(text='i', timestep=78, start_time=1.559999942779541),\n",
       "    TokenMetadata(text='s', timestep=82, start_time=1.6399999856948853)\n",
       "  ]),\n",
       "  CandidateTranscript(confidence=-23.209564208984375, tokens=[\n",
       "    TokenMetadata(text='e', timestep=34, start_time=0.6800000071525574),\n",
       "    TokenMetadata(text='x', timestep=36, start_time=0.7199999690055847),\n",
       "    TokenMetadata(text='p', timestep=40, start_time=0.7999999523162842),\n",
       "    TokenMetadata(text='e', timestep=41, start_time=0.8199999928474426),\n",
       "    TokenMetadata(text='r', timestep=43, start_time=0.85999995470047),\n",
       "    TokenMetadata(text='i', timestep=45, start_time=0.8999999761581421),\n",
       "    TokenMetadata(text='e', timestep=47, start_time=0.9399999976158142),\n",
       "    TokenMetadata(text='n', timestep=49, start_time=0.9799999594688416),\n",
       "    TokenMetadata(text='c', timestep=50, start_time=1.0),\n",
       "    TokenMetadata(text='e', timestep=52, start_time=1.0399999618530273),\n",
       "    TokenMetadata(text=' ', timestep=56, start_time=1.1200000047683716),\n",
       "    TokenMetadata(text='p', timestep=61, start_time=1.2200000286102295),\n",
       "    TokenMetadata(text='r', timestep=62, start_time=1.2400000095367432),\n",
       "    TokenMetadata(text='o', timestep=64, start_time=1.2799999713897705),\n",
       "    TokenMetadata(text='v', timestep=66, start_time=1.3199999332427979),\n",
       "    TokenMetadata(text='e', timestep=67, start_time=1.3399999141693115),\n",
       "    TokenMetadata(text='s', timestep=69, start_time=1.3799999952316284),\n",
       "    TokenMetadata(text=' ', timestep=72, start_time=1.4399999380111694),\n",
       "    TokenMetadata(text='t', timestep=75, start_time=1.5),\n",
       "    TokenMetadata(text='h', timestep=76, start_time=1.5199999809265137),\n",
       "    TokenMetadata(text='i', timestep=78, start_time=1.559999942779541),\n",
       "    TokenMetadata(text='s', timestep=82, start_time=1.6399999856948853),\n",
       "    TokenMetadata(text=' ', timestep=83, start_time=1.659999966621399)\n",
       "  ]),\n",
       "  CandidateTranscript(confidence=-24.76624298095703, tokens=[\n",
       "    TokenMetadata(text='e', timestep=34, start_time=0.6800000071525574),\n",
       "    TokenMetadata(text='x', timestep=36, start_time=0.7199999690055847),\n",
       "    TokenMetadata(text='p', timestep=40, start_time=0.7999999523162842),\n",
       "    TokenMetadata(text='e', timestep=41, start_time=0.8199999928474426),\n",
       "    TokenMetadata(text='r', timestep=43, start_time=0.85999995470047),\n",
       "    TokenMetadata(text='i', timestep=45, start_time=0.8999999761581421),\n",
       "    TokenMetadata(text='e', timestep=47, start_time=0.9399999976158142),\n",
       "    TokenMetadata(text='n', timestep=49, start_time=0.9799999594688416),\n",
       "    TokenMetadata(text='c', timestep=50, start_time=1.0),\n",
       "    TokenMetadata(text='e', timestep=52, start_time=1.0399999618530273),\n",
       "    TokenMetadata(text=' ', timestep=56, start_time=1.1200000047683716),\n",
       "    TokenMetadata(text='p', timestep=61, start_time=1.2200000286102295),\n",
       "    TokenMetadata(text='r', timestep=62, start_time=1.2400000095367432),\n",
       "    TokenMetadata(text='o', timestep=64, start_time=1.2799999713897705),\n",
       "    TokenMetadata(text='v', timestep=66, start_time=1.3199999332427979),\n",
       "    TokenMetadata(text='e', timestep=67, start_time=1.3399999141693115),\n",
       "    TokenMetadata(text='s', timestep=69, start_time=1.3799999952316284),\n",
       "    TokenMetadata(text=' ', timestep=72, start_time=1.4399999380111694),\n",
       "    TokenMetadata(text='i', timestep=78, start_time=1.559999942779541),\n",
       "    TokenMetadata(text='s', timestep=82, start_time=1.6399999856948853)\n",
       "  ]),\n",
       "  CandidateTranscript(confidence=-24.905311584472656, tokens=[\n",
       "    TokenMetadata(text='e', timestep=34, start_time=0.6800000071525574),\n",
       "    TokenMetadata(text='x', timestep=36, start_time=0.7199999690055847),\n",
       "    TokenMetadata(text='p', timestep=40, start_time=0.7999999523162842),\n",
       "    TokenMetadata(text='e', timestep=41, start_time=0.8199999928474426),\n",
       "    TokenMetadata(text='r', timestep=43, start_time=0.85999995470047),\n",
       "    TokenMetadata(text='i', timestep=45, start_time=0.8999999761581421),\n",
       "    TokenMetadata(text='e', timestep=47, start_time=0.9399999976158142),\n",
       "    TokenMetadata(text='n', timestep=49, start_time=0.9799999594688416),\n",
       "    TokenMetadata(text='c', timestep=50, start_time=1.0),\n",
       "    TokenMetadata(text='e', timestep=52, start_time=1.0399999618530273),\n",
       "    TokenMetadata(text=' ', timestep=56, start_time=1.1200000047683716),\n",
       "    TokenMetadata(text='p', timestep=61, start_time=1.2200000286102295),\n",
       "    TokenMetadata(text='r', timestep=62, start_time=1.2400000095367432),\n",
       "    TokenMetadata(text='o', timestep=64, start_time=1.2799999713897705),\n",
       "    TokenMetadata(text='v', timestep=66, start_time=1.3199999332427979),\n",
       "    TokenMetadata(text='e', timestep=67, start_time=1.3399999141693115),\n",
       "    TokenMetadata(text='s', timestep=69, start_time=1.3799999952316284),\n",
       "    TokenMetadata(text=' ', timestep=72, start_time=1.4399999380111694),\n",
       "    TokenMetadata(text='t', timestep=75, start_time=1.5),\n",
       "    TokenMetadata(text='h', timestep=76, start_time=1.5199999809265137),\n",
       "    TokenMetadata(text='a', timestep=78, start_time=1.559999942779541),\n",
       "    TokenMetadata(text='t', timestep=82, start_time=1.6399999856948853)\n",
       "  ])\n",
       "])"
      ]
     },
     "execution_count": 6,
     "metadata": {},
     "output_type": "execute_result"
    }
   ],
   "source": [
    "predictions"
   ]
  },
  {
   "cell_type": "code",
   "execution_count": null,
   "id": "c8c39ab0",
   "metadata": {},
   "outputs": [],
   "source": []
  }
 ],
 "metadata": {
  "kernelspec": {
   "display_name": "Python 3",
   "language": "python",
   "name": "python3"
  },
  "language_info": {
   "codemirror_mode": {
    "name": "ipython",
    "version": 3
   },
   "file_extension": ".py",
   "mimetype": "text/x-python",
   "name": "python",
   "nbconvert_exporter": "python",
   "pygments_lexer": "ipython3",
   "version": "3.8.5"
  }
 },
 "nbformat": 4,
 "nbformat_minor": 5
}
