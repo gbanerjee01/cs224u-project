{
 "cells": [
  {
   "cell_type": "code",
   "execution_count": 1,
   "id": "wound-fifth",
   "metadata": {},
   "outputs": [],
   "source": [
    "import json\n",
    "  \n",
    "# Opening JSON file\n",
    "with open('../cv-corpus-6.1-2020-12-11/en/train_path_client.json') as json_file:\n",
    "    train_path = json.load(json_file)"
   ]
  },
  {
   "cell_type": "code",
   "execution_count": 3,
   "id": "comprehensive-cleveland",
   "metadata": {},
   "outputs": [
    {
     "name": "stdout",
     "output_type": "stream",
     "text": [
      "common_voice_en_1027059.mp3\n",
      "cb5bd9ad996218619531511ae2600aa61055005f910e7c8719464fc75fb5366aaee9d3e6a9307934a3322107c9a226e598e806c3b2b8acfc9c1560f6b40dc337\n",
      "\n",
      "common_voice_en_21788001.mp3\n",
      "cc6516333444de42e6d5a07afe5f65085d09df0f45c3c2bd9d1662273033ad8b7b73488a8835923858a7ae0ea550762719389a04c728ccd93de8a9a053c3ee1b\n",
      "\n",
      "common_voice_en_21788002.mp3\n",
      "cc6516333444de42e6d5a07afe5f65085d09df0f45c3c2bd9d1662273033ad8b7b73488a8835923858a7ae0ea550762719389a04c728ccd93de8a9a053c3ee1b\n",
      "\n",
      "common_voice_en_21788003.mp3\n",
      "cc6516333444de42e6d5a07afe5f65085d09df0f45c3c2bd9d1662273033ad8b7b73488a8835923858a7ae0ea550762719389a04c728ccd93de8a9a053c3ee1b\n",
      "\n",
      "common_voice_en_21788004.mp3\n",
      "cc6516333444de42e6d5a07afe5f65085d09df0f45c3c2bd9d1662273033ad8b7b73488a8835923858a7ae0ea550762719389a04c728ccd93de8a9a053c3ee1b\n",
      "\n"
     ]
    }
   ],
   "source": [
    "i = 0\n",
    "for key, val in train_path.items():\n",
    "    print(key)\n",
    "    print(val)\n",
    "    print()\n",
    "    i+=1\n",
    "    if i==5:\n",
    "        break"
   ]
  },
  {
   "cell_type": "code",
   "execution_count": null,
   "id": "subsequent-briefing",
   "metadata": {},
   "outputs": [],
   "source": []
  }
 ],
 "metadata": {
  "kernelspec": {
   "display_name": "Python 3",
   "language": "python",
   "name": "python3"
  },
  "language_info": {
   "codemirror_mode": {
    "name": "ipython",
    "version": 3
   },
   "file_extension": ".py",
   "mimetype": "text/x-python",
   "name": "python",
   "nbconvert_exporter": "python",
   "pygments_lexer": "ipython3",
   "version": "3.6.13"
  }
 },
 "nbformat": 4,
 "nbformat_minor": 5
}
